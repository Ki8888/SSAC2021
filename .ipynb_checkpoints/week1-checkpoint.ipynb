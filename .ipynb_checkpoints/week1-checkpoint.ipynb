{
 "cells": [
  {
   "cell_type": "markdown",
   "metadata": {},
   "source": [
    "# AIFFEL 1주차 과정을 수행하면서 의문점, 애매했던 부분들 위주로 정리"
   ]
  },
  {
   "cell_type": "markdown",
   "metadata": {},
   "source": [
    "## 1주차에 배운것\n",
    "1. 노트북 우분투,anaconda 작업환경 구성\n",
    "2. git.jupyter 사용법\n",
    "3. 파이썬 변수, 문법, 자료형식   \n",
    "\n",
    "## 실습한 것\n",
    "1. 가위바위보 모델 만들기\n",
    "2. 붓꽃 분류모델 만들기"
   ]
  },
  {
   "cell_type": "markdown",
   "metadata": {},
   "source": [
    " AIFFEL에서 교육기간동안 대여해주는 노트북의 성능이 좋고, 세팅이 잘되있어서인지 이전에 개인노트북에 우분투를 설치와 사용할때는 애로사항이 많았는데 하루만에 모든 작업이 끝나서 좋았다.  \n",
    " 기존 노트북엔 윈도우가 깔려있어서 멀티부팅을 위해 grob을 설치했고,\n",
    "우분투에 문제가 생겨서 재설치하는 중에 grob이 문제가 생겨서 윈도우가서 다시 다 지우고 다시 설치하고, 교육중 우분투 용량부족으로 윈도우로 가서 용량확보하고 다시 설치하고, 딥러닝 돌렸더니 RAM4GB라 12GB로 추가업글시키고...전혀 문제없이 쓰고있던 노트북에 처음으로 불만사항이 생겼었다.  \n",
    "지금 이렇게 그런일도 있었지하고 쓰고 있지만, 당시에는 정말 갑갑했다. 어쨌든 교육준비가 끝났다."
   ]
  },
  {
   "cell_type": "markdown",
   "metadata": {},
   "source": [
    "## <span style = \"color:red\"> git</span>"
   ]
  },
  {
   "cell_type": "markdown",
   "metadata": {},
   "source": [
    "git과 jupyter는 AI관련 공부를 하면서 한번씩 들어왔고, 겉핥기로나마 다뤄왔으며 앞으로도 계속 다루게 될거 같은 프로그램들이다.  \n",
    "특히 git의 경우 사용법에 익숙치 않아 명령어 위주로 한 번 정리하려고 한다."
   ]
  },
  {
   "cell_type": "markdown",
   "metadata": {},
   "source": [
    "내가 이해한 git은 대략 이렇다.  \n",
    "* 내가 작업한 파일의 버전, 기록들을 로컬에 임시저장 -git  \n",
    "* 이것을 인터넷에 업로드하여 로컬이 아닌 곳에서도 작업가능하게 함 - github"
   ]
  },
  {
   "cell_type": "markdown",
   "metadata": {},
   "source": [
    "### 로컬에 깃허브의 정보 등록하기(git - github연결)"
   ]
  },
  {
   "cell_type": "markdown",
   "metadata": {},
   "source": [
    "git config --global user.email \"로그인시 사용하는 내이메일\"\n",
    "\n",
    "\n",
    "git config --global user.name \"내 유저이름(깃허브프로필)\"\n",
    "\n",
    "\n",
    "\n",
    "등록 후 git config -l 로 확인 가능하다."
   ]
  },
  {
   "cell_type": "markdown",
   "metadata": {},
   "source": [
    "### 내 컴퓨터에 저장소 만들기\n",
    "주로 깃허브에서 저장소 만들어서 clone으로 땡겨오는 기능만 사용해서 생소했다."
   ]
  },
  {
   "cell_type": "markdown",
   "metadata": {},
   "source": [
    "* 작업 진행할 폴더위치에 git init 실행하여 초기화 >> ls -la로 검색시 .git 발견<br>\n",
    "* echo \"하고 싶은말\" >> READMD.md\n",
    "(지정한 문자열을 출력 >> 파일에 담아라) / cat명령어로 내용 확인가능<br>\n",
    "* git status<br>\n",
    "현재 상태 확인  \n",
    "* git add\n",
    "현재 변경사항을 임시로 저장\n",
    "* git commit -m '아무거나'  \n",
    "-m(메시지)"
   ]
  },
  {
   "cell_type": "markdown",
   "metadata": {},
   "source": [
    "### 원격 저장소 생성  \n",
    "방법이 많으니 구글링(생성시 공개여부, readme파일 생성여부 선택가능)"
   ]
  },
  {
   "cell_type": "markdown",
   "metadata": {},
   "source": [
    "### **로컬저장소와 원격저장소 연결**"
   ]
  },
  {
   "cell_type": "markdown",
   "metadata": {},
   "source": [
    "* git remote add origin https://github.com/내유저이름/github생성폴더이름  \n",
    "주소 일일이 입력대신 origin으로 사용가능  \n",
    "* git push origin master  \n",
    "로컬저장소의 정보를 origin으로 지정된 원격저장소의 master branch로 보냄\n"
   ]
  },
  {
   "cell_type": "markdown",
   "metadata": {},
   "source": [
    "### **원격저장소를 로컬로 가져오기**"
   ]
  },
  {
   "cell_type": "markdown",
   "metadata": {},
   "source": [
    "* git clone https://github.com/유저이름/github폴더이름  \n",
    "    깃허브이름으로 폴더 생성 후 그 안에 내용 담김"
   ]
  },
  {
   "cell_type": "markdown",
   "metadata": {},
   "source": [
    "* **add , commit -m, push** 순서로 로컬에서 작업한 내용 깃허브에 업로드 가능\n",
    "* **pull** 이용 원격저장소에 업데이트된 내용을 로컬에도 업데이트"
   ]
  },
  {
   "cell_type": "markdown",
   "metadata": {},
   "source": [
    "## <span style = \"color:red\"> IRIS</span>"
   ]
  },
  {
   "cell_type": "markdown",
   "metadata": {},
   "source": [
    "load_iris 예제 실습중 **list comprehension**의 사용에 어려운 부분이 있어서 정리해두려 한다."
   ]
  },
  {
   "cell_type": "markdown",
   "metadata": {},
   "source": [
    "target인 digits_label을 변형  \n",
    "```new_label = [3 if i==3 else 0 for i in digits_label]\n",
    "new_label[:20]```"
   ]
  },
  {
   "cell_type": "markdown",
   "metadata": {},
   "source": [
    "기존에 알던 list comprehension은 i for i in 의 형태였는데 if문에서의 형태는 처음 보는 모양이었다.  마지막에 남는 요소가 맨 앞으로 오는 줄 알었는데 if문에서는 그 사용이 달랐다."
   ]
  },
  {
   "cell_type": "markdown",
   "metadata": {},
   "source": [
    "```[a] = [i for i in 범위 if i..]```  \n",
    "이런식으로 보통 사용되지만 if else문의 경우에는 for문과 반복문의 위치가 서로 바뀐다.  \n",
    "```[a] = [True값 if문 True의경우 else문 False의경우 False값 반복문]```"
   ]
  },
  {
   "cell_type": "markdown",
   "metadata": {},
   "source": [
    "```\n",
    "a=[]\n",
    "for i in digits_label:\n",
    "    if i ==3:\n",
    "        a.append[3]\n",
    "    else i==0:\n",
    "        a.append[0]```\n",
    "        \n",
    "이런식인걸까"
   ]
  },
  {
   "cell_type": "markdown",
   "metadata": {},
   "source": [
    "파이썬은 다음에"
   ]
  },
  {
   "cell_type": "code",
   "execution_count": null,
   "metadata": {},
   "outputs": [],
   "source": []
  }
 ],
 "metadata": {
  "kernelspec": {
   "display_name": "Python 3",
   "language": "python",
   "name": "python3"
  },
  "language_info": {
   "codemirror_mode": {
    "name": "ipython",
    "version": 3
   },
   "file_extension": ".py",
   "mimetype": "text/x-python",
   "name": "python",
   "nbconvert_exporter": "python",
   "pygments_lexer": "ipython3",
   "version": "3.7.6"
  }
 },
 "nbformat": 4,
 "nbformat_minor": 4
}
